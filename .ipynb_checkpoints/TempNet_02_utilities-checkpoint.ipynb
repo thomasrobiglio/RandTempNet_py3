{
 "cells": [
  {
   "cell_type": "markdown",
   "metadata": {},
   "source": [
    "# Temporal Networks v2.0 #"
   ]
  },
  {
   "cell_type": "markdown",
   "metadata": {},
   "source": [
    "## Utilities ##\n",
    "The `utils` module of the library contains utility functions for the temporal networks:\n",
    "- data reading and writing;\n",
    "- conversion between representations;\n",
    "- aggregation of the temporal network;\n",
    "- various measures on the temporal network;\n",
    "- quick plot of a network with graph-tools."
   ]
  },
  {
   "cell_type": "code",
   "execution_count": 1,
   "metadata": {},
   "outputs": [],
   "source": [
    "import RandTempNet.utils as tnu"
   ]
  },
  {
   "cell_type": "markdown",
   "metadata": {},
   "source": [
    "## Data reading & writing ##\n",
    "\n",
    "All four representations for temporal networks can be used as input and output in text files. The formatting for each is the following:\n",
    "\n",
    "File type             | Format\n",
    "--------------------- | ---------------------------\n",
    "tij.dat               | `t \\t i \\t j \\n`\n",
    "tijtau.dat            | `t \\t i \\t j \\t tau \\n`\n",
    "snapshot_sequence.dat | `t \\t i,j \\t ... \\t y,z \\n`\n",
    "link_stream.dat       | `i,j \\t t_1,tau_1 \\t ... \\t t_n,tau_n \\n`\n",
    "\n",
    "**Description:**\n",
    "- The `tij` format is the most common way to store a temporal network: it simply lists each event `(t,i,j)` of duration one unit time `dt`.\n",
    "- The `tijtau` format is an extension of the previous, where contacts with their duration `tau` are listed instead of events.\n",
    "- The `snapshot_sequence` format lists all time steps, with for each the list of links active during this time step.\n",
    "- The `link_stream` format lists all links in the network aggregated over time, with for each the list of contacts.\n",
    "\n",
    "### `read_tij(filename)` ###\n",
    "This function reads a file indicated by the `filename` string formatted like a tij.dat file, and returns a `tij()` object."
   ]
  },
  {
   "cell_type": "code",
   "execution_count": 3,
   "metadata": {},
   "outputs": [
    {
     "ename": "FileNotFoundError",
     "evalue": "[Errno 2] No such file or directory: '../data/tij.dat'",
     "output_type": "error",
     "traceback": [
      "\u001b[0;31m---------------------------------------------------------------------------\u001b[0m",
      "\u001b[0;31mFileNotFoundError\u001b[0m                         Traceback (most recent call last)",
      "\u001b[0;32m/var/folders/vs/_ltrslk93zl5w4q8xtlkgdv00000gn/T/ipykernel_14855/4000151228.py\u001b[0m in \u001b[0;36m<module>\u001b[0;34m\u001b[0m\n\u001b[0;32m----> 1\u001b[0;31m \u001b[0mtij_data\u001b[0m \u001b[0;34m=\u001b[0m \u001b[0mtnu\u001b[0m\u001b[0;34m.\u001b[0m\u001b[0mread_tij\u001b[0m\u001b[0;34m(\u001b[0m\u001b[0;34m\"../data/tij.dat\"\u001b[0m\u001b[0;34m)\u001b[0m\u001b[0;34m\u001b[0m\u001b[0;34m\u001b[0m\u001b[0m\n\u001b[0m",
      "\u001b[0;32m~/GitHub/RandTempNet/RandTempNet/utils.py\u001b[0m in \u001b[0;36mread_tij\u001b[0;34m(filename)\u001b[0m\n\u001b[1;32m     35\u001b[0m \u001b[0;31m#>returns a tij() object\u001b[0m\u001b[0;34m\u001b[0m\u001b[0;34m\u001b[0m\u001b[0m\n\u001b[1;32m     36\u001b[0m \u001b[0;32mdef\u001b[0m \u001b[0mread_tij\u001b[0m\u001b[0;34m(\u001b[0m\u001b[0mfilename\u001b[0m\u001b[0;34m)\u001b[0m\u001b[0;34m:\u001b[0m\u001b[0;34m\u001b[0m\u001b[0;34m\u001b[0m\u001b[0m\n\u001b[0;32m---> 37\u001b[0;31m     \u001b[0mData\u001b[0m \u001b[0;34m=\u001b[0m \u001b[0mnp\u001b[0m\u001b[0;34m.\u001b[0m\u001b[0mloadtxt\u001b[0m\u001b[0;34m(\u001b[0m\u001b[0mfilename\u001b[0m\u001b[0;34m,\u001b[0m\u001b[0mdelimiter\u001b[0m\u001b[0;34m=\u001b[0m\u001b[0;34m\"\\t\"\u001b[0m\u001b[0;34m,\u001b[0m\u001b[0mdtype\u001b[0m\u001b[0;34m=\u001b[0m\u001b[0;34m\"int\"\u001b[0m\u001b[0;34m)\u001b[0m\u001b[0;34m\u001b[0m\u001b[0;34m\u001b[0m\u001b[0m\n\u001b[0m\u001b[1;32m     38\u001b[0m     \u001b[0mOutput\u001b[0m \u001b[0;34m=\u001b[0m \u001b[0mtij\u001b[0m\u001b[0;34m(\u001b[0m\u001b[0;34m)\u001b[0m\u001b[0;34m\u001b[0m\u001b[0;34m\u001b[0m\u001b[0m\n\u001b[1;32m     39\u001b[0m     \u001b[0;32mfor\u001b[0m \u001b[0mt\u001b[0m\u001b[0;34m,\u001b[0m\u001b[0mi\u001b[0m\u001b[0;34m,\u001b[0m\u001b[0mj\u001b[0m \u001b[0;32min\u001b[0m \u001b[0mData\u001b[0m\u001b[0;34m:\u001b[0m\u001b[0;34m\u001b[0m\u001b[0;34m\u001b[0m\u001b[0m\n",
      "\u001b[0;32m~/opt/anaconda3/lib/python3.9/site-packages/numpy/lib/npyio.py\u001b[0m in \u001b[0;36mloadtxt\u001b[0;34m(fname, dtype, comments, delimiter, converters, skiprows, usecols, unpack, ndmin, encoding, max_rows, like)\u001b[0m\n\u001b[1;32m   1065\u001b[0m             \u001b[0mfname\u001b[0m \u001b[0;34m=\u001b[0m \u001b[0mos_fspath\u001b[0m\u001b[0;34m(\u001b[0m\u001b[0mfname\u001b[0m\u001b[0;34m)\u001b[0m\u001b[0;34m\u001b[0m\u001b[0;34m\u001b[0m\u001b[0m\n\u001b[1;32m   1066\u001b[0m         \u001b[0;32mif\u001b[0m \u001b[0m_is_string_like\u001b[0m\u001b[0;34m(\u001b[0m\u001b[0mfname\u001b[0m\u001b[0;34m)\u001b[0m\u001b[0;34m:\u001b[0m\u001b[0;34m\u001b[0m\u001b[0;34m\u001b[0m\u001b[0m\n\u001b[0;32m-> 1067\u001b[0;31m             \u001b[0mfh\u001b[0m \u001b[0;34m=\u001b[0m \u001b[0mnp\u001b[0m\u001b[0;34m.\u001b[0m\u001b[0mlib\u001b[0m\u001b[0;34m.\u001b[0m\u001b[0m_datasource\u001b[0m\u001b[0;34m.\u001b[0m\u001b[0mopen\u001b[0m\u001b[0;34m(\u001b[0m\u001b[0mfname\u001b[0m\u001b[0;34m,\u001b[0m \u001b[0;34m'rt'\u001b[0m\u001b[0;34m,\u001b[0m \u001b[0mencoding\u001b[0m\u001b[0;34m=\u001b[0m\u001b[0mencoding\u001b[0m\u001b[0;34m)\u001b[0m\u001b[0;34m\u001b[0m\u001b[0;34m\u001b[0m\u001b[0m\n\u001b[0m\u001b[1;32m   1068\u001b[0m             \u001b[0mfencoding\u001b[0m \u001b[0;34m=\u001b[0m \u001b[0mgetattr\u001b[0m\u001b[0;34m(\u001b[0m\u001b[0mfh\u001b[0m\u001b[0;34m,\u001b[0m \u001b[0;34m'encoding'\u001b[0m\u001b[0;34m,\u001b[0m \u001b[0;34m'latin1'\u001b[0m\u001b[0;34m)\u001b[0m\u001b[0;34m\u001b[0m\u001b[0;34m\u001b[0m\u001b[0m\n\u001b[1;32m   1069\u001b[0m             \u001b[0mfh\u001b[0m \u001b[0;34m=\u001b[0m \u001b[0miter\u001b[0m\u001b[0;34m(\u001b[0m\u001b[0mfh\u001b[0m\u001b[0;34m)\u001b[0m\u001b[0;34m\u001b[0m\u001b[0;34m\u001b[0m\u001b[0m\n",
      "\u001b[0;32m~/opt/anaconda3/lib/python3.9/site-packages/numpy/lib/_datasource.py\u001b[0m in \u001b[0;36mopen\u001b[0;34m(path, mode, destpath, encoding, newline)\u001b[0m\n\u001b[1;32m    191\u001b[0m \u001b[0;34m\u001b[0m\u001b[0m\n\u001b[1;32m    192\u001b[0m     \u001b[0mds\u001b[0m \u001b[0;34m=\u001b[0m \u001b[0mDataSource\u001b[0m\u001b[0;34m(\u001b[0m\u001b[0mdestpath\u001b[0m\u001b[0;34m)\u001b[0m\u001b[0;34m\u001b[0m\u001b[0;34m\u001b[0m\u001b[0m\n\u001b[0;32m--> 193\u001b[0;31m     \u001b[0;32mreturn\u001b[0m \u001b[0mds\u001b[0m\u001b[0;34m.\u001b[0m\u001b[0mopen\u001b[0m\u001b[0;34m(\u001b[0m\u001b[0mpath\u001b[0m\u001b[0;34m,\u001b[0m \u001b[0mmode\u001b[0m\u001b[0;34m,\u001b[0m \u001b[0mencoding\u001b[0m\u001b[0;34m=\u001b[0m\u001b[0mencoding\u001b[0m\u001b[0;34m,\u001b[0m \u001b[0mnewline\u001b[0m\u001b[0;34m=\u001b[0m\u001b[0mnewline\u001b[0m\u001b[0;34m)\u001b[0m\u001b[0;34m\u001b[0m\u001b[0;34m\u001b[0m\u001b[0m\n\u001b[0m\u001b[1;32m    194\u001b[0m \u001b[0;34m\u001b[0m\u001b[0m\n\u001b[1;32m    195\u001b[0m \u001b[0;34m\u001b[0m\u001b[0m\n",
      "\u001b[0;32m~/opt/anaconda3/lib/python3.9/site-packages/numpy/lib/_datasource.py\u001b[0m in \u001b[0;36mopen\u001b[0;34m(self, path, mode, encoding, newline)\u001b[0m\n\u001b[1;32m    528\u001b[0m             \u001b[0;32mif\u001b[0m \u001b[0mext\u001b[0m \u001b[0;34m==\u001b[0m \u001b[0;34m'bz2'\u001b[0m\u001b[0;34m:\u001b[0m\u001b[0;34m\u001b[0m\u001b[0;34m\u001b[0m\u001b[0m\n\u001b[1;32m    529\u001b[0m                 \u001b[0mmode\u001b[0m\u001b[0;34m.\u001b[0m\u001b[0mreplace\u001b[0m\u001b[0;34m(\u001b[0m\u001b[0;34m\"+\"\u001b[0m\u001b[0;34m,\u001b[0m \u001b[0;34m\"\"\u001b[0m\u001b[0;34m)\u001b[0m\u001b[0;34m\u001b[0m\u001b[0;34m\u001b[0m\u001b[0m\n\u001b[0;32m--> 530\u001b[0;31m             return _file_openers[ext](found, mode=mode,\n\u001b[0m\u001b[1;32m    531\u001b[0m                                       encoding=encoding, newline=newline)\n\u001b[1;32m    532\u001b[0m         \u001b[0;32melse\u001b[0m\u001b[0;34m:\u001b[0m\u001b[0;34m\u001b[0m\u001b[0;34m\u001b[0m\u001b[0m\n",
      "\u001b[0;31mFileNotFoundError\u001b[0m: [Errno 2] No such file or directory: '../data/tij.dat'"
     ]
    }
   ],
   "source": [
    "tij_data = tnu.read_tij(\"../data/tij.dat\")"
   ]
  },
  {
   "cell_type": "markdown",
   "metadata": {},
   "source": [
    "### `read_tijtau(filename)` ###\n",
    "This function reads a file indicated by the `filename` string formatted like a tijtau.dat file, and returns a `tijtau()` object."
   ]
  },
  {
   "cell_type": "code",
   "execution_count": 11,
   "metadata": {},
   "outputs": [],
   "source": [
    "tijtau_data = tnu.read_tijtau(\"/home/genois/Bureau/tempnet/tijtau_InVS13.dat\")"
   ]
  },
  {
   "cell_type": "markdown",
   "metadata": {},
   "source": [
    "### `read_snapshot_sequence(filename,t_i=0,t_f=0,dt=0)` ###\n",
    "This function reads a file indicated by the `filename` string formatted like a snapshot_sequence.dat, and returns a `snapshot_sequence()` object. The initial time `t_i`, the final time `t_f` and the time step duration `dt` can be specified when the function is called. If not, they are automatically extracted from the data to construct the `snapshot_sequence()` object."
   ]
  },
  {
   "cell_type": "code",
   "execution_count": 12,
   "metadata": {},
   "outputs": [],
   "source": [
    "seq_data = tnu.read_snapshot_sequence(\"/home/genois/Bureau/tempnet/timeset_InVS13.dat\")"
   ]
  },
  {
   "cell_type": "code",
   "execution_count": 3,
   "metadata": {},
   "outputs": [],
   "source": [
    "seq_data = tnu.read_snapshot_sequence(\"/home/genois/Bureau/tempnet/timeset_InVS13.dat\",0,60480,1)"
   ]
  },
  {
   "cell_type": "markdown",
   "metadata": {},
   "source": [
    "### `read_link_stream()` ###\n",
    "This function reads a file indicated by the `filename` string formatted like a link_stream.dat, and returns a `link_stream()` object."
   ]
  },
  {
   "cell_type": "code",
   "execution_count": 14,
   "metadata": {},
   "outputs": [],
   "source": [
    "lks_data = tnu.read_link_timeline(\"/home/genois/Bureau/tempnet/lks_InVS13.dat\")"
   ]
  },
  {
   "cell_type": "markdown",
   "metadata": {},
   "source": [
    "### `write_tij(filename,tij_data)` ###\n",
    "This function writes a `tij()` object `tij_data` in a file indicated by the `filename` string, with the proper tij.dat format."
   ]
  },
  {
   "cell_type": "code",
   "execution_count": 15,
   "metadata": {},
   "outputs": [],
   "source": [
    "tnu.write_tij(\"tij.dat\",tij_data)"
   ]
  },
  {
   "cell_type": "markdown",
   "metadata": {},
   "source": [
    "### `write_tijtau(filename,tijtau_data)` ###\n",
    "This function writes a `tijtau()` object `tijtau_data` in a file indicated by the `filename` string, with the proper tijtau.dat format."
   ]
  },
  {
   "cell_type": "code",
   "execution_count": 16,
   "metadata": {},
   "outputs": [],
   "source": [
    "tnu.write_tijtau(\"tijtau.dat\",tijtau_data)"
   ]
  },
  {
   "cell_type": "markdown",
   "metadata": {},
   "source": [
    "### `write_snapshot_sequence(filename,seq_data)` ###\n",
    "This function writes a `snapshot_sequence()` object `seq_data` in a file indicated by the `filename` string, with the proper snapshot_sequence.dat format."
   ]
  },
  {
   "cell_type": "code",
   "execution_count": 17,
   "metadata": {},
   "outputs": [],
   "source": [
    "tnu.write_snapshot_sequence(\"timeset.dat\",seq_data)"
   ]
  },
  {
   "cell_type": "markdown",
   "metadata": {},
   "source": [
    "### `write_link_timeline(lks_data)` ###\n",
    "This function writes a `link_timeline()` object `lks_data` in a file indicated by the `filename` string, with the link_timeline.dat format."
   ]
  },
  {
   "cell_type": "code",
   "execution_count": 18,
   "metadata": {},
   "outputs": [],
   "source": [
    "tnu.write_link_timeline(\"lks.dat\",lks_data)"
   ]
  },
  {
   "cell_type": "markdown",
   "metadata": {},
   "source": [
    "## Data conversion ##\n",
    "The main conversion is from event-based data to contact-based data, with the assumption that contiguous events are joined to form contacts. Two functions perform this conversion, one based on the simple `tij` and `tijtau` formats, the other based on the high level `snapshot_sequence` and `link_timeline` formats. Along these conversions, we have two natural conversions, namely between `tij` and `snapshot_sequence`, and between `tijtau` and `link_timeline`. The pathways of conversion are thus the following:\n",
    "\n",
    "**True conversions**\n",
    "- tij $\\leftrightarrow$ tijtau\n",
    "- snapshot_sequence $\\leftrightarrow$ link_timeline\n",
    "\n",
    "**Natural conversions**\n",
    "- tij $\\leftrightarrow$ snapshot_sequence\n",
    "- tijtau $\\leftrightarrow$ link_timeline\n",
    "\n",
    "For conversions towards a `snapshot_sequence()`, one can always specify the first and last time stamp, for cases where the first (respectively last) time stamp is different from the first (respectively last) event.\n",
    "\n",
    "### `tij_to_snapshot_sequence(tij_data,dt,t_i=-1,t_f=0)` ###\n",
    "This function takes a `tij()` object `tij_data` and returns its conversion to a `snapshot_sequence()` object. Specifying the time step duration `dt` is mandatory. The initial time `t_i` and the final time `t_f` are optional, and are by default set to the first step and last time step + 1 of the `tij()` object. If `t_f` is set at a certain value, the last step will be at time step `t_f-1`."
   ]
  },
  {
   "cell_type": "code",
   "execution_count": 19,
   "metadata": {},
   "outputs": [],
   "source": [
    "seq_data = tnu.tij_to_snapshot_sequence(tij_data,1)"
   ]
  },
  {
   "cell_type": "code",
   "execution_count": 20,
   "metadata": {},
   "outputs": [],
   "source": [
    "seq_data = tnu.tij_to_snapshot_sequence(tij_data,1,0,60480)"
   ]
  },
  {
   "cell_type": "markdown",
   "metadata": {},
   "source": [
    "### `snapshot_sequence_to_tij(seq_data)` ###\n",
    "This function takes a `snapshot_sequence()` object `seq_data` and returns its conversion to a `tij()` object."
   ]
  },
  {
   "cell_type": "code",
   "execution_count": 21,
   "metadata": {},
   "outputs": [],
   "source": [
    "tij_data = tnu.snapshot_sequence_to_tij(seq_data)"
   ]
  },
  {
   "cell_type": "markdown",
   "metadata": {},
   "source": [
    "### `tijtau_to_link_timeline(tijtau_data)` ###\n",
    "This function takes a `tijtau()` object `tijtau_data` and returns its conversion to a `link_timeline()` object."
   ]
  },
  {
   "cell_type": "code",
   "execution_count": 22,
   "metadata": {},
   "outputs": [],
   "source": [
    "lks_data = tnu.tijtau_to_link_timeline(tijtau_data)"
   ]
  },
  {
   "cell_type": "markdown",
   "metadata": {},
   "source": [
    "### `link_timeline_to_tijtau(lks_data)` ###\n",
    "This function takes a `link_timeline()` object `lks_data` and returns its conversion to a `tijtau()` object."
   ]
  },
  {
   "cell_type": "code",
   "execution_count": 23,
   "metadata": {},
   "outputs": [],
   "source": [
    "tijtau_data = tnu.link_timeline_to_tijtau(lks_data)"
   ]
  },
  {
   "cell_type": "markdown",
   "metadata": {},
   "source": [
    "### `tij_to_tijtau(tij_data,dt,join=True)` ###\n",
    "This function takes a `tij()` object `tij_data` and returns its conversion to a `tijtau()` object. It necessitates the value of the time step `dt`. The optional argument `join` indicates whether consecutive instant-events should be joined or not to define events with durations. Its default value is `True`."
   ]
  },
  {
   "cell_type": "code",
   "execution_count": 5,
   "metadata": {},
   "outputs": [],
   "source": [
    "tijtau_data = tnu.tij_to_tijtau(tij_data,1)"
   ]
  },
  {
   "cell_type": "markdown",
   "metadata": {},
   "source": [
    "### `tijtau_to_tij(tijtau_data,dt)` ###\n",
    "This function takes a `tij()` object `tij_data` and returns its conversion to a `tijtau()` object. It necessitates the value of the time step `dt`."
   ]
  },
  {
   "cell_type": "code",
   "execution_count": 25,
   "metadata": {},
   "outputs": [],
   "source": [
    "tij_data = tnu.tijtau_to_tij(tijtau_data,1)"
   ]
  },
  {
   "cell_type": "markdown",
   "metadata": {},
   "source": [
    "### `snapshot_sequence_to_link_timeline(seq_data,dt,join=True)` ###\n",
    "This function takes a `snapshot_sequence()` object `seq_data` and returns its conversion to a `link_timeline()` object.  It necessitates the value of the time step `dt`. The optional argument `join` indicates whether consecutive instant-events should be joined or not to define events with durations. Its default value is `True`."
   ]
  },
  {
   "cell_type": "code",
   "execution_count": 5,
   "metadata": {},
   "outputs": [],
   "source": [
    "lks_data = tnu.snapshot_sequence_to_link_timeline(seq_data,1)"
   ]
  },
  {
   "cell_type": "markdown",
   "metadata": {},
   "source": [
    "### `link_timeline_to_snapshot_sequence(lks_data,dt,t_i=-1,t_f=0)` ###\n",
    "This function takes a `link_timeline()` object `lks_data` and returns its conversion to a `snapshot_sequence()` object. Specifying the time step duration `dt` is mandatory. The initial time `t_i` and the final time `t_f` are optional, and are by default set to the first step and list time step + 1 of the `link_timeline()` object. If `t_f` is set at a certain value, the last step will be at time step `t_f-1`."
   ]
  },
  {
   "cell_type": "code",
   "execution_count": 27,
   "metadata": {},
   "outputs": [],
   "source": [
    "seq_data = tnu.link_timeline_to_snapshot_sequence(lks_data,1)"
   ]
  },
  {
   "cell_type": "code",
   "execution_count": 28,
   "metadata": {},
   "outputs": [],
   "source": [
    "seq_data = tnu.link_timeline_to_snapshot_sequence(lks_data,1,0,60480)"
   ]
  },
  {
   "cell_type": "markdown",
   "metadata": {},
   "source": [
    "## Aggregation ##\n",
    "In this section we present functions that aggregate a temporal networks along the time. A function is available for each data representation. All functions return a `networkx` `Graph()` object where links have an attribute `w` which gives the total contact duration."
   ]
  },
  {
   "cell_type": "code",
   "execution_count": 4,
   "metadata": {},
   "outputs": [],
   "source": [
    "tij_data = tnu.read_tij(\"/home/genois/Bureau/tempnet/tij_InVS13.dat\")\n",
    "tijtau_data = tnu.read_tijtau(\"/home/genois/Bureau/tempnet/tijtau_InVS13.dat\")\n",
    "seq_data = tnu.read_snapshot_sequence(\"/home/genois/Bureau/tempnet/timeset_InVS13.dat\")\n",
    "lks_data = tnu.read_link_timeline(\"/home/genois/Bureau/tempnet/lks_InVS13.dat\")"
   ]
  },
  {
   "cell_type": "markdown",
   "metadata": {},
   "source": [
    "### `aggregate_tij(tij_data)` ###\n",
    "This function takes a `tij()` object as input."
   ]
  },
  {
   "cell_type": "code",
   "execution_count": 5,
   "metadata": {},
   "outputs": [],
   "source": [
    "G = tnu.aggregate_tij(tij_data)"
   ]
  },
  {
   "cell_type": "markdown",
   "metadata": {},
   "source": [
    "### `aggregate_tijtau(tijtau_data)` ###\n",
    "This function takes a `tijtau()` object as input."
   ]
  },
  {
   "cell_type": "code",
   "execution_count": 6,
   "metadata": {},
   "outputs": [],
   "source": [
    "G = tnu.aggregate_tijtau(tijtau_data)"
   ]
  },
  {
   "cell_type": "markdown",
   "metadata": {},
   "source": [
    "### `aggregate_snapshot_sequence(seq_data)` ###\n",
    "This function takes a `snapshot_sequence()` object as input."
   ]
  },
  {
   "cell_type": "code",
   "execution_count": 7,
   "metadata": {},
   "outputs": [],
   "source": [
    "G = tnu.aggregate_snapshot_sequence(seq_data)"
   ]
  },
  {
   "cell_type": "markdown",
   "metadata": {},
   "source": [
    "### `aggregate_link_timeline(lks_data)` ###\n",
    "This function takes a `link_timeline()` object as input."
   ]
  },
  {
   "cell_type": "code",
   "execution_count": 8,
   "metadata": {},
   "outputs": [],
   "source": [
    "G = tnu.aggregate_link_timeline(lks_data)"
   ]
  },
  {
   "cell_type": "code",
   "execution_count": null,
   "metadata": {},
   "outputs": [],
   "source": []
  }
 ],
 "metadata": {
  "kernelspec": {
   "display_name": "Python 3 (ipykernel)",
   "language": "python",
   "name": "python3"
  },
  "language_info": {
   "codemirror_mode": {
    "name": "ipython",
    "version": 3
   },
   "file_extension": ".py",
   "mimetype": "text/x-python",
   "name": "python",
   "nbconvert_exporter": "python",
   "pygments_lexer": "ipython3",
   "version": "3.9.13"
  }
 },
 "nbformat": 4,
 "nbformat_minor": 1
}
